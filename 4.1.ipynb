{
 "cells": [
  {
   "cell_type": "code",
   "execution_count": 22,
   "metadata": {},
   "outputs": [
    {
     "name": "stdout",
     "output_type": "stream",
     "text": [
      "**********\n",
      "*        *\n",
      "*        *\n",
      "*        *\n",
      "*        *\n",
      "*        *\n",
      "*        *\n",
      "*        *\n",
      "*        *\n",
      "**********\n"
     ]
    }
   ],
   "source": [
    "x = int(input(\"Kolon sayısı giriniz:\"))\n",
    "for i in range(1, x + 1):\n",
    "    if i == 1 :\n",
    "        print(\"*\"*x)\n",
    "    elif i < x :\n",
    "        print(\"*\"+\" \"*(x-2)+\"*\")\n",
    "    else:\n",
    "        print(\"*\"*x)"
   ]
  },
  {
   "cell_type": "code",
   "execution_count": 26,
   "metadata": {},
   "outputs": [
    {
     "name": "stdout",
     "output_type": "stream",
     "text": [
      "**********\n",
      "*********\n",
      "*********\n",
      " \n",
      "*********\n",
      " \n",
      " \n",
      "*********\n",
      " \n",
      " \n",
      " \n",
      "*********\n",
      " \n",
      " \n",
      " \n",
      " \n",
      "*********\n",
      " \n",
      " \n",
      " \n",
      " \n",
      " \n",
      "*********\n",
      " \n",
      " \n",
      " \n",
      " \n",
      " \n",
      " \n",
      "**********\n",
      "*********\n",
      " \n",
      " \n",
      " \n",
      " \n",
      " \n",
      " \n",
      "*********\n"
     ]
    }
   ],
   "source": [
    "x = int(input(\"Kolon sayısı giriniz:\"))\n",
    "for i in range(1, x + 1):\n",
    "    for j in range(2, i ):\n",
    "        if j == 2 or j == (x - 1):\n",
    "            print(\"*\"*(x-1))\n",
    "        else:\n",
    "            print(\" \")\n",
    "\n",
    "\n"
   ]
  },
  {
   "cell_type": "code",
   "execution_count": 29,
   "metadata": {},
   "outputs": [
    {
     "name": "stdout",
     "output_type": "stream",
     "text": [
      "**********\n",
      "*        *\n",
      "*        *\n",
      "*        *\n",
      "*        *\n",
      "*        *\n",
      "*        *\n",
      "*        *\n",
      "*        *\n",
      "**********\n"
     ]
    }
   ],
   "source": [
    "rowCount = int(input(\"Satır ve sütun sayısını giriniz:\"))\n",
    "for rowIndex in range(rowCount):\n",
    "    for columnIndex in range(rowCount):\n",
    "        if rowIndex == 0 or rowIndex == rowCount-1 or columnIndex == 0 or columnIndex == rowCount-1:\n",
    "            print(\"*\", end=\"\")\n",
    "        else:\n",
    "            print(\" \",end=\"\")\n",
    "    print()"
   ]
  },
  {
   "cell_type": "code",
   "execution_count": null,
   "metadata": {},
   "outputs": [],
   "source": [
    "rowCount = columnCount = int(input(\"Satır ve sütun sayısını giriniz:\"))\n",
    "for index in range(0, rowCount):\n",
    "    if index == 0 or index == rowCount-1:\n",
    "        print(\"*\"*rowCount)\n",
    "    else:\n",
    "        print()\n"
   ]
  },
  {
   "cell_type": "code",
   "execution_count": 44,
   "metadata": {},
   "outputs": [
    {
     "name": "stdout",
     "output_type": "stream",
     "text": [
      "120\n"
     ]
    }
   ],
   "source": [
    "def func(x):\n",
    "    result = 1\n",
    "    for i in range(x,0,-1):\n",
    "        result *= i\n",
    "\n",
    "    return result\n",
    "\n",
    "print(func(5))"
   ]
  },
  {
   "cell_type": "code",
   "execution_count": 49,
   "metadata": {},
   "outputs": [
    {
     "name": "stdout",
     "output_type": "stream",
     "text": [
      "1\n"
     ]
    }
   ],
   "source": [
    "def func(x):\n",
    "    if x == 0:\n",
    "        return 1\n",
    "    else:\n",
    "        return x * func(x - 1)\n",
    "\n",
    "print(func(1))"
   ]
  },
  {
   "cell_type": "code",
   "execution_count": 58,
   "metadata": {},
   "outputs": [
    {
     "name": "stdout",
     "output_type": "stream",
     "text": [
      "ebob: 10\n",
      "ekok: 100\n"
     ]
    }
   ],
   "source": [
    "def ebob_ekok(x,y):\n",
    "    num1 = max(x,y)\n",
    "    num2 = min(x,y)\n",
    "    ebob = 1\n",
    "    ekok = 1\n",
    "    for i in range(2, num2 + 1):\n",
    "        if num1 % i == 0 and num2 % i == 0:\n",
    "            ebob = i\n",
    "\n",
    "    ekok = int((num1*num2)//ebob)\n",
    "    print(\"ebob:\",ebob)\n",
    "    print(\"ekok:\",ekok)\n",
    "\n",
    "\n",
    "ebob_ekok(20,50)\n",
    "\n",
    "    \n",
    "\n",
    "\n",
    "            \n",
    "\n",
    "\n"
   ]
  },
  {
   "cell_type": "code",
   "execution_count": 64,
   "metadata": {},
   "outputs": [
    {
     "name": "stdout",
     "output_type": "stream",
     "text": [
      "*\n",
      "*\n",
      "*\n",
      "*\n",
      "*\n",
      "*\n",
      "*\n",
      "*\n",
      "*\n",
      "*\n",
      "*\n",
      " *    * \n",
      " *    * \n",
      " *    * \n",
      " *    * \n",
      " *    * \n",
      " *    * \n",
      " *    * \n",
      " *    * \n",
      " *    * \n",
      "*\n",
      "  *  *  \n",
      "  *  *  \n",
      "  *  *  \n",
      "  *  *  \n",
      "  *  *  \n",
      "  *  *  \n",
      "  *  *  \n",
      "  *  *  \n",
      "  *  *  \n",
      "*\n",
      "   **   \n",
      "   **   \n",
      "   **   \n",
      "   **   \n",
      "   **   \n",
      "   **   \n",
      "   **   \n",
      "   **   \n",
      "   **   \n",
      "*\n",
      "    **    \n",
      "    **    \n",
      "    **    \n",
      "    **    \n",
      "    **    \n",
      "    **    \n",
      "    **    \n",
      "    **    \n",
      "    **    \n",
      "*\n",
      "\n",
      "\n",
      "\n",
      "\n",
      "\n",
      "\n",
      "\n",
      "\n",
      "\n",
      "*\n",
      "\n",
      "\n",
      "\n",
      "\n",
      "\n",
      "\n",
      "\n",
      "\n",
      "\n",
      "*\n",
      "\n",
      "\n",
      "\n",
      "\n",
      "\n",
      "\n",
      "\n",
      "\n",
      "\n",
      "*\n",
      "\n",
      "\n",
      "\n",
      "\n",
      "\n",
      "\n",
      "\n",
      "\n",
      "\n",
      "*\n",
      "\n",
      "\n",
      "\n",
      "\n",
      "\n",
      "\n",
      "\n",
      "\n",
      "\n"
     ]
    }
   ],
   "source": [
    "rowCount = columnCount = int(input(\"Satır ve sütun sayısını giriniz:\"))\n",
    "which_row = 0\n",
    "for rowIndex in range(1, rowCount + 1):\n",
    "    for columnIndex in range(1, columnCount + 1):\n",
    "        if rowIndex == 1 or rowIndex == rowCount+1 or columnIndex == 1 or columnIndex == columnCount+1:\n",
    "            print(\"*\", end=\"\")\n",
    "        else:\n",
    "            if rowIndex <= rowCount / 2:\n",
    "                print(\" \"*(rowIndex-1)+\"*\"+\" \"*(rowCount-(2*rowIndex)-2)+\"*\"+\" \"*(rowIndex-1), end=\"\")\n",
    "    print()"
   ]
  },
  {
   "cell_type": "code",
   "execution_count": 71,
   "metadata": {},
   "outputs": [
    {
     "name": "stdout",
     "output_type": "stream",
     "text": [
      "*******\n",
      "**   **\n",
      "* * * *\n",
      "*  *  *\n",
      "* * * *\n",
      "**   **\n",
      "*******\n"
     ]
    }
   ],
   "source": [
    "x= int(input('satır ve sutun sayısını giriniz'))\n",
    "for i in range (x):\n",
    "  for j in range (x):\n",
    "    if i == 0 or i == x-1 or j == 0 or j == x-1 or i == j or i == x-1-j:\n",
    "      print('*', end=\"\")\n",
    "    else:\n",
    "      print(\" \",end=\"\")\n",
    "  print()\n"
   ]
  },
  {
   "cell_type": "code",
   "execution_count": 76,
   "metadata": {},
   "outputs": [
    {
     "name": "stdout",
     "output_type": "stream",
     "text": [
      "6 sayısı mükemmel sayıdır.\n"
     ]
    }
   ],
   "source": [
    "def func():\n",
    "    x = int(input(\"Sayı giriniz:\"))\n",
    "    is_Number = 0\n",
    "    for i in range(1, x):\n",
    "        if x % i == 0:\n",
    "            is_Number += i\n",
    "    if x == is_Number:\n",
    "        print(f\"{x} sayısı mükemmel sayıdır.\")\n",
    "    else:\n",
    "        print(f\"{x} sayısı mükemmel sayı değildir.\")\n",
    "\n",
    "func()\n",
    "\n"
   ]
  },
  {
   "cell_type": "code",
   "execution_count": 81,
   "metadata": {},
   "outputs": [
    {
     "ename": "UnboundLocalError",
     "evalue": "local variable 'is_Number' referenced before assignment",
     "output_type": "error",
     "traceback": [
      "\u001b[1;31m---------------------------------------------------------------------------\u001b[0m",
      "\u001b[1;31mUnboundLocalError\u001b[0m                         Traceback (most recent call last)",
      "Cell \u001b[1;32mIn [81], line 13\u001b[0m\n\u001b[0;32m      9\u001b[0m         \u001b[38;5;28;01mif\u001b[39;00m i \u001b[38;5;241m==\u001b[39m is_number:\n\u001b[0;32m     10\u001b[0m             \u001b[38;5;28mprint\u001b[39m(i)\n\u001b[1;32m---> 13\u001b[0m \u001b[43mfunc\u001b[49m\u001b[43m(\u001b[49m\u001b[43m)\u001b[49m\n",
      "Cell \u001b[1;32mIn [81], line 8\u001b[0m, in \u001b[0;36mfunc\u001b[1;34m()\u001b[0m\n\u001b[0;32m      6\u001b[0m \u001b[38;5;28;01mfor\u001b[39;00m j \u001b[38;5;129;01min\u001b[39;00m \u001b[38;5;28mrange\u001b[39m(\u001b[38;5;241m1\u001b[39m, i):\n\u001b[0;32m      7\u001b[0m     \u001b[38;5;28;01mif\u001b[39;00m i \u001b[38;5;241m%\u001b[39m j \u001b[38;5;241m==\u001b[39m \u001b[38;5;241m0\u001b[39m:\n\u001b[1;32m----> 8\u001b[0m         is_Number \u001b[38;5;241m+\u001b[39m\u001b[38;5;241m=\u001b[39m j\n\u001b[0;32m      9\u001b[0m \u001b[38;5;28;01mif\u001b[39;00m i \u001b[38;5;241m==\u001b[39m is_number:\n\u001b[0;32m     10\u001b[0m     \u001b[38;5;28mprint\u001b[39m(i)\n",
      "\u001b[1;31mUnboundLocalError\u001b[0m: local variable 'is_Number' referenced before assignment"
     ]
    }
   ],
   "source": [
    "def func():\n",
    "    start = int(input(\"Başlangıç değerini giriniz:\"))\n",
    "    finish = int(input(\"Bitiş sayısını giriniz:\"))\n",
    "    for i in range(start, finish + 1):\n",
    "        is_number = 0\n",
    "        for j in range(1, i):\n",
    "            if i % j == 0:\n",
    "                is_Number += j\n",
    "        if i == is_number:\n",
    "            print(i)\n",
    "\n",
    "\n",
    "func()"
   ]
  },
  {
   "cell_type": "code",
   "execution_count": 86,
   "metadata": {},
   "outputs": [
    {
     "name": "stdout",
     "output_type": "stream",
     "text": [
      "6\n",
      "28\n"
     ]
    }
   ],
   "source": [
    "def func():\n",
    "    start = int(input(\"Başlangıç değerini giriniz:\"))\n",
    "    finish = int(input(\"Bitiş sayısını giriniz:\"))\n",
    "    for i in range(start, finish + 1):\n",
    "        is_number = 0\n",
    "        for j in range(1, i):\n",
    "            if i % j == 0:\n",
    "                is_number += j\n",
    "        if i == is_number:\n",
    "            print(i)\n",
    "            continue\n",
    "\n",
    "\n",
    "func()"
   ]
  },
  {
   "cell_type": "code",
   "execution_count": 92,
   "metadata": {},
   "outputs": [
    {
     "name": "stdout",
     "output_type": "stream",
     "text": [
      "En büyük sayı: 21\n",
      "En küçük sayı: 1\n"
     ]
    }
   ],
   "source": [
    "def min_max():\n",
    "    x = 1\n",
    "    biggest_Number = None\n",
    "    smallest_Number = None\n",
    "    while x <= 3:\n",
    "        number = int(input(\"Sayı giriniz:\"))\n",
    "        if biggest_Number == None and smallest_Number == None:\n",
    "            biggest_Number = number\n",
    "            smallest_Number = number\n",
    "        elif number > biggest_Number:\n",
    "            biggest_Number = number\n",
    "        elif number < smallest_Number :\n",
    "            smallest_Number = number\n",
    "        x += 1\n",
    "    print(f\"En büyük sayı: {biggest_Number}\")\n",
    "    print(f\"En küçük sayı: {smallest_Number}\")\n",
    "\n",
    "min_max()"
   ]
  }
 ],
 "metadata": {
  "kernelspec": {
   "display_name": "Python 3.9.6 64-bit",
   "language": "python",
   "name": "python3"
  },
  "language_info": {
   "codemirror_mode": {
    "name": "ipython",
    "version": 3
   },
   "file_extension": ".py",
   "mimetype": "text/x-python",
   "name": "python",
   "nbconvert_exporter": "python",
   "pygments_lexer": "ipython3",
   "version": "3.9.6"
  },
  "orig_nbformat": 4,
  "vscode": {
   "interpreter": {
    "hash": "d148b176bda426fb4b50001d6273c0a18f2bf05b5320f9456b0d68b8d6f9a53f"
   }
  }
 },
 "nbformat": 4,
 "nbformat_minor": 2
}
